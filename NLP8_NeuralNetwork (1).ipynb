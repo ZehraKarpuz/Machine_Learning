{
 "cells": [
  {
   "cell_type": "code",
   "execution_count": 2,
   "id": "6755b9f6",
   "metadata": {},
   "outputs": [],
   "source": [
    "from collections import Counter\n",
    "from tqdm import tqdm\n",
    "from scipy.sparse import csr_matrix\n",
    "import math\n",
    "import operator\n",
    "from sklearn.preprocessing import normalize\n",
    "import numpy as np \n",
    "import pandas as pd\n",
    "import nltk\n",
    "from sklearn.model_selection import train_test_split\n",
    "import matplotlib.pyplot as plt \n",
    "from collections import defaultdict\n",
    "from sklearn.metrics import accuracy_score\n",
    "import random"
   ]
  },
  {
   "cell_type": "code",
   "execution_count": 118,
   "id": "5e1b49d1",
   "metadata": {},
   "outputs": [],
   "source": [
    "df=pd.read_csv(\"temp_data3.csv\")\n",
    "df=df.iloc[:50,:]"
   ]
  },
  {
   "cell_type": "code",
   "execution_count": 119,
   "id": "1ba83f66",
   "metadata": {},
   "outputs": [
    {
     "data": {
      "text/plain": [
       "positive    26\n",
       "negative    13\n",
       "Name: Sentiment, dtype: int64"
      ]
     },
     "execution_count": 119,
     "metadata": {},
     "output_type": "execute_result"
    }
   ],
   "source": [
    "list1=[]\n",
    "list1=df.Sentiment.values\n",
    "for i in range(len(list1)):\n",
    "    if(list1[i]==\"mixed\"):\n",
    "        df.drop([i],axis=0,inplace=True)\n",
    "    elif(list1[i]==\"neutral\"):\n",
    "        df.drop([i],axis=0,inplace=True)\n",
    "\n",
    "df[\"Sentiment\"].value_counts()"
   ]
  },
  {
   "cell_type": "code",
   "execution_count": 120,
   "id": "1d9b996f",
   "metadata": {},
   "outputs": [],
   "source": [
    "text=df[\"cleaned_text\"]\n",
    "sentiment=df[\"Sentiment\"]\n",
    "dataf=pd.concat([text,sentiment],axis=1)"
   ]
  },
  {
   "cell_type": "code",
   "execution_count": 121,
   "id": "4ef6a603",
   "metadata": {},
   "outputs": [
    {
     "name": "stderr",
     "output_type": "stream",
     "text": [
      "<ipython-input-121-8df99cae8495>:2: FutureWarning: The default value of regex will change from True to False in a future version.\n",
      "  data=data.str.replace(\"[^\\w\\s]\",\"\")#harf dışı simgeler,noktalama\n",
      "<ipython-input-121-8df99cae8495>:3: FutureWarning: The default value of regex will change from True to False in a future version.\n",
      "  data= data.str.replace(\" \\d+\", \" \")#sayılar\n",
      "[nltk_data] Downloading package stopwords to\n",
      "[nltk_data]     C:\\Users\\Zehra\\AppData\\Roaming\\nltk_data...\n",
      "[nltk_data]   Package stopwords is already up-to-date!\n"
     ]
    }
   ],
   "source": [
    "data=dataf[\"cleaned_text\"].apply(lambda x: \" \".join(x.lower() for x in x.split() if x.isalpha()))\n",
    "data=data.str.replace(\"[^\\w\\s]\",\"\")#harf dışı simgeler,noktalama\n",
    "data= data.str.replace(\" \\d+\", \" \")#sayılar \n",
    "from nltk.corpus import stopwords\n",
    "nltk.download(\"stopwords\")\n",
    "duraklama_kelimeleri = stopwords.words()\n",
    "data=pd.DataFrame(data,columns=[\"cleaned_text\"])\n",
    "data=data[\"cleaned_text\"].apply(lambda x: \" \".join(x for x in x.split() if x not in duraklama_kelimeleri))\n",
    "data=pd.concat([data,sentiment],axis=1)"
   ]
  },
  {
   "cell_type": "code",
   "execution_count": 122,
   "id": "a96bc633",
   "metadata": {},
   "outputs": [],
   "source": [
    "cleaned_text = data['cleaned_text'].values\n",
    "labels = data['Sentiment'].values"
   ]
  },
  {
   "cell_type": "code",
   "execution_count": 123,
   "id": "b34721dc",
   "metadata": {},
   "outputs": [],
   "source": [
    "cleaned_text=list(cleaned_text)"
   ]
  },
  {
   "cell_type": "code",
   "execution_count": 124,
   "id": "d1aa2ecd",
   "metadata": {},
   "outputs": [],
   "source": [
    "def IDF(corpus, unique_words):\n",
    "    idf_dict={}\n",
    "    N=len(corpus)\n",
    "    for i in unique_words:\n",
    "        count=0\n",
    "        for sen in corpus:\n",
    "            if i in sen.split():\n",
    "                count=count+1#kelimenin kaç dökümanda olduğu\n",
    "            idf_dict[i]=(math.log((1+N)/(count+1)))+1\n",
    "    return idf_dict "
   ]
  },
  {
   "cell_type": "code",
   "execution_count": 125,
   "id": "dfa79c44",
   "metadata": {},
   "outputs": [],
   "source": [
    "def fit(whole_data):\n",
    "    unique_words = set()\n",
    "    if isinstance(whole_data, (list,)):\n",
    "        for x in whole_data:\n",
    "            for y in x.split():#cümle kelimeleri\n",
    "                if len(y)<2:\n",
    "                    continue\n",
    "                unique_words.add(y)\n",
    "        unique_words = sorted(list(unique_words))\n",
    "        vocab = {j:i for i,j in enumerate(unique_words)}#kelime indexleme\n",
    "    Idf_values_of_all_unique_words=IDF(whole_data,unique_words)\n",
    "    return vocab, Idf_values_of_all_unique_words\n",
    "Vocabulary, idf_of_vocabulary=fit(cleaned_text) "
   ]
  },
  {
   "cell_type": "code",
   "execution_count": 126,
   "id": "96b18a37",
   "metadata": {},
   "outputs": [],
   "source": [
    "def transform(dataset,vocabulary,idf_values):\n",
    "    tfidf=np.zeros(len(vocabulary))\n",
    "    number_of_words_in_sentence=Counter(dataset.split())#yorumdaki kelimelerin sayısı\n",
    "    for word in dataset.split():\n",
    "        if word in  list(vocabulary.keys()):#(kelimenin yorumdaki sayısı/yorumun uzunluğu)*kelimenin idf değeri\n",
    "            tf_idf_value=(number_of_words_in_sentence[word]/len(dataset.split()))*(idf_values[word])\n",
    "            tfidf[vocabulary[word]]=tf_idf_value\n",
    "    return tfidf"
   ]
  },
  {
   "cell_type": "code",
   "execution_count": 127,
   "id": "c450bee4",
   "metadata": {},
   "outputs": [],
   "source": [
    "tablo = np.zeros((len(cleaned_text),len(Vocabulary)))\n",
    "tablo =pd.DataFrame(tablo,columns=Vocabulary.keys())\n",
    "tfidf=np.zeros(len(Vocabulary))\n",
    "for i in range(len(cleaned_text)):\n",
    "    tfidf=transform(cleaned_text[i],Vocabulary,idf_of_vocabulary)\n",
    "    tablo.loc[i] = tfidf"
   ]
  },
  {
   "cell_type": "code",
   "execution_count": 128,
   "id": "7364ccfe",
   "metadata": {},
   "outputs": [],
   "source": [
    "tablo=normalize(tablo, norm='l2', axis=1, copy=True, return_norm=False)\n",
    "tablo =pd.DataFrame(tablo,columns=Vocabulary.keys())"
   ]
  },
  {
   "cell_type": "code",
   "execution_count": 130,
   "id": "131facd7",
   "metadata": {},
   "outputs": [],
   "source": [
    "from sklearn.preprocessing import LabelEncoder\n",
    "encoder = LabelEncoder()\n",
    "encoded_labels = encoder.fit_transform(labels)"
   ]
  },
  {
   "cell_type": "code",
   "execution_count": 131,
   "id": "b62c0083",
   "metadata": {},
   "outputs": [],
   "source": [
    "X, x_te, y, y_te = train_test_split(tablo, encoded_labels, stratify = labels)"
   ]
  },
  {
   "cell_type": "code",
   "execution_count": 132,
   "id": "7ec01fda",
   "metadata": {},
   "outputs": [],
   "source": [
    "X=X.T\n",
    "x_te=x_te.T"
   ]
  },
  {
   "cell_type": "code",
   "execution_count": 154,
   "id": "4cb4ecaf",
   "metadata": {},
   "outputs": [],
   "source": [
    "def sigmoid(input):    \n",
    "    output = 1 / (1 + np.exp(-input))\n",
    "    return output"
   ]
  },
  {
   "cell_type": "code",
   "execution_count": 155,
   "id": "e98f8f5b",
   "metadata": {},
   "outputs": [],
   "source": [
    "def relu(input):\n",
    "    output = np.maximum(0, input)\n",
    "    return output"
   ]
  },
  {
   "cell_type": "code",
   "execution_count": 156,
   "id": "66c1ed76",
   "metadata": {},
   "outputs": [],
   "source": [
    "np.random.seed(42)\n",
    "inputLayer_neurons = X.shape[0]  \n",
    "hiddenLayer_neurons = 10\n",
    "outputLayer_neurons = 1  \n",
    "\n",
    "weights_input_hidden = np.random.uniform(size=(inputLayer_neurons, hiddenLayer_neurons))\n",
    "weights_hidden_output = np.random.uniform(\n",
    "    size=(hiddenLayer_neurons, outputLayer_neurons)\n",
    ")\n",
    "bias_in=weights_input_hidden[[-1,]]#ağırlık vektörünün son son satırı\n",
    "bias_out=weights_hidden_output[-1]\n",
    "lr = 0.0002\n",
    "epochs = 2000\n",
    "losses=[]\n",
    "accuracy=[]"
   ]
  },
  {
   "cell_type": "code",
   "execution_count": 157,
   "id": "521208a3",
   "metadata": {},
   "outputs": [
    {
     "name": "stdout",
     "output_type": "stream",
     "text": [
      "Error epoch 0 -> 0.232498\n",
      "Accuracy epoch 0 -> 0.535004\n",
      "Error epoch 10 -> 0.232498\n",
      "Accuracy epoch 10 -> 0.535004\n",
      "Error epoch 20 -> 0.232498\n",
      "Accuracy epoch 20 -> 0.535004\n",
      "Error epoch 30 -> 0.232498\n",
      "Accuracy epoch 30 -> 0.535004\n",
      "Error epoch 40 -> 0.232498\n",
      "Accuracy epoch 40 -> 0.535004\n",
      "Error epoch 50 -> 0.232498\n",
      "Accuracy epoch 50 -> 0.535004\n",
      "Error epoch 60 -> 0.232498\n",
      "Accuracy epoch 60 -> 0.535004\n",
      "Error epoch 70 -> 0.232498\n",
      "Accuracy epoch 70 -> 0.535004\n",
      "Error epoch 80 -> 0.232498\n",
      "Accuracy epoch 80 -> 0.535004\n",
      "Error epoch 90 -> 0.232498\n",
      "Accuracy epoch 90 -> 0.535004\n",
      "Error epoch 100 -> 0.232498\n",
      "Accuracy epoch 100 -> 0.535004\n",
      "Error epoch 110 -> 0.232498\n",
      "Accuracy epoch 110 -> 0.535004\n",
      "Error epoch 120 -> 0.232498\n",
      "Accuracy epoch 120 -> 0.535004\n",
      "Error epoch 130 -> 0.232498\n",
      "Accuracy epoch 130 -> 0.535004\n",
      "Error epoch 140 -> 0.232498\n",
      "Accuracy epoch 140 -> 0.535004\n",
      "Error epoch 150 -> 0.232498\n",
      "Accuracy epoch 150 -> 0.535004\n",
      "Error epoch 160 -> 0.232498\n",
      "Accuracy epoch 160 -> 0.535004\n",
      "Error epoch 170 -> 0.232498\n",
      "Accuracy epoch 170 -> 0.535004\n",
      "Error epoch 180 -> 0.232498\n",
      "Accuracy epoch 180 -> 0.535004\n",
      "Error epoch 190 -> 0.232498\n",
      "Accuracy epoch 190 -> 0.535004\n",
      "Error epoch 200 -> 0.232498\n",
      "Accuracy epoch 200 -> 0.535004\n",
      "Error epoch 210 -> 0.232498\n",
      "Accuracy epoch 210 -> 0.535004\n",
      "Error epoch 220 -> 0.232498\n",
      "Accuracy epoch 220 -> 0.535004\n",
      "Error epoch 230 -> 0.232498\n",
      "Accuracy epoch 230 -> 0.535004\n",
      "Error epoch 240 -> 0.232498\n",
      "Accuracy epoch 240 -> 0.535004\n",
      "Error epoch 250 -> 0.232498\n",
      "Accuracy epoch 250 -> 0.535004\n",
      "Error epoch 260 -> 0.232498\n",
      "Accuracy epoch 260 -> 0.535004\n",
      "Error epoch 270 -> 0.232498\n",
      "Accuracy epoch 270 -> 0.535004\n",
      "Error epoch 280 -> 0.232498\n",
      "Accuracy epoch 280 -> 0.535004\n",
      "Error epoch 290 -> 0.232498\n",
      "Accuracy epoch 290 -> 0.535004\n",
      "Error epoch 300 -> 0.232498\n",
      "Accuracy epoch 300 -> 0.535004\n",
      "Error epoch 310 -> 0.232498\n",
      "Accuracy epoch 310 -> 0.535004\n",
      "Error epoch 320 -> 0.232498\n",
      "Accuracy epoch 320 -> 0.535004\n",
      "Error epoch 330 -> 0.232498\n",
      "Accuracy epoch 330 -> 0.535004\n",
      "Error epoch 340 -> 0.232498\n",
      "Accuracy epoch 340 -> 0.535004\n",
      "Error epoch 350 -> 0.232498\n",
      "Accuracy epoch 350 -> 0.535004\n",
      "Error epoch 360 -> 0.232498\n",
      "Accuracy epoch 360 -> 0.535004\n",
      "Error epoch 370 -> 0.232498\n",
      "Accuracy epoch 370 -> 0.535004\n",
      "Error epoch 380 -> 0.232498\n",
      "Accuracy epoch 380 -> 0.535004\n",
      "Error epoch 390 -> 0.232498\n",
      "Accuracy epoch 390 -> 0.535004\n",
      "Error epoch 400 -> 0.232498\n",
      "Accuracy epoch 400 -> 0.535004\n",
      "Error epoch 410 -> 0.232498\n",
      "Accuracy epoch 410 -> 0.535004\n",
      "Error epoch 420 -> 0.232498\n",
      "Accuracy epoch 420 -> 0.535004\n",
      "Error epoch 430 -> 0.232498\n",
      "Accuracy epoch 430 -> 0.535004\n",
      "Error epoch 440 -> 0.232498\n",
      "Accuracy epoch 440 -> 0.535004\n",
      "Error epoch 450 -> 0.232498\n",
      "Accuracy epoch 450 -> 0.535004\n",
      "Error epoch 460 -> 0.232498\n",
      "Accuracy epoch 460 -> 0.535004\n",
      "Error epoch 470 -> 0.232498\n",
      "Accuracy epoch 470 -> 0.535004\n",
      "Error epoch 480 -> 0.232498\n",
      "Accuracy epoch 480 -> 0.535004\n",
      "Error epoch 490 -> 0.232498\n",
      "Accuracy epoch 490 -> 0.535004\n",
      "Error epoch 500 -> 0.232498\n",
      "Accuracy epoch 500 -> 0.535004\n",
      "Error epoch 510 -> 0.232498\n",
      "Accuracy epoch 510 -> 0.535004\n",
      "Error epoch 520 -> 0.232498\n",
      "Accuracy epoch 520 -> 0.535004\n",
      "Error epoch 530 -> 0.232498\n",
      "Accuracy epoch 530 -> 0.535004\n",
      "Error epoch 540 -> 0.232498\n",
      "Accuracy epoch 540 -> 0.535004\n",
      "Error epoch 550 -> 0.232498\n",
      "Accuracy epoch 550 -> 0.535004\n",
      "Error epoch 560 -> 0.232498\n",
      "Accuracy epoch 560 -> 0.535004\n",
      "Error epoch 570 -> 0.232498\n",
      "Accuracy epoch 570 -> 0.535004\n",
      "Error epoch 580 -> 0.232498\n",
      "Accuracy epoch 580 -> 0.535004\n",
      "Error epoch 590 -> 0.232498\n",
      "Accuracy epoch 590 -> 0.535004\n",
      "Error epoch 600 -> 0.232498\n",
      "Accuracy epoch 600 -> 0.535004\n",
      "Error epoch 610 -> 0.232498\n",
      "Accuracy epoch 610 -> 0.535004\n",
      "Error epoch 620 -> 0.232498\n",
      "Accuracy epoch 620 -> 0.535004\n",
      "Error epoch 630 -> 0.232498\n",
      "Accuracy epoch 630 -> 0.535004\n",
      "Error epoch 640 -> 0.232498\n",
      "Accuracy epoch 640 -> 0.535004\n",
      "Error epoch 650 -> 0.232498\n",
      "Accuracy epoch 650 -> 0.535004\n",
      "Error epoch 660 -> 0.232498\n",
      "Accuracy epoch 660 -> 0.535004\n",
      "Error epoch 670 -> 0.232498\n",
      "Accuracy epoch 670 -> 0.535004\n",
      "Error epoch 680 -> 0.232498\n",
      "Accuracy epoch 680 -> 0.535004\n",
      "Error epoch 690 -> 0.232498\n",
      "Accuracy epoch 690 -> 0.535004\n",
      "Error epoch 700 -> 0.232498\n",
      "Accuracy epoch 700 -> 0.535004\n",
      "Error epoch 710 -> 0.232498\n",
      "Accuracy epoch 710 -> 0.535004\n",
      "Error epoch 720 -> 0.232498\n",
      "Accuracy epoch 720 -> 0.535004\n",
      "Error epoch 730 -> 0.232498\n",
      "Accuracy epoch 730 -> 0.535004\n",
      "Error epoch 740 -> 0.232498\n",
      "Accuracy epoch 740 -> 0.535004\n",
      "Error epoch 750 -> 0.232498\n",
      "Accuracy epoch 750 -> 0.535004\n",
      "Error epoch 760 -> 0.232498\n",
      "Accuracy epoch 760 -> 0.535004\n",
      "Error epoch 770 -> 0.232498\n",
      "Accuracy epoch 770 -> 0.535004\n",
      "Error epoch 780 -> 0.232498\n",
      "Accuracy epoch 780 -> 0.535004\n",
      "Error epoch 790 -> 0.232498\n",
      "Accuracy epoch 790 -> 0.535004\n",
      "Error epoch 800 -> 0.232498\n",
      "Accuracy epoch 800 -> 0.535004\n",
      "Error epoch 810 -> 0.232498\n",
      "Accuracy epoch 810 -> 0.535004\n",
      "Error epoch 820 -> 0.232498\n",
      "Accuracy epoch 820 -> 0.535004\n",
      "Error epoch 830 -> 0.232498\n",
      "Accuracy epoch 830 -> 0.535004\n",
      "Error epoch 840 -> 0.232498\n",
      "Accuracy epoch 840 -> 0.535004\n",
      "Error epoch 850 -> 0.232498\n",
      "Accuracy epoch 850 -> 0.535004\n",
      "Error epoch 860 -> 0.232498\n",
      "Accuracy epoch 860 -> 0.535004\n",
      "Error epoch 870 -> 0.232498\n",
      "Accuracy epoch 870 -> 0.535004\n",
      "Error epoch 880 -> 0.232498\n",
      "Accuracy epoch 880 -> 0.535004\n",
      "Error epoch 890 -> 0.232498\n",
      "Accuracy epoch 890 -> 0.535004\n",
      "Error epoch 900 -> 0.232498\n",
      "Accuracy epoch 900 -> 0.535004\n",
      "Error epoch 910 -> 0.232498\n",
      "Accuracy epoch 910 -> 0.535004\n",
      "Error epoch 920 -> 0.232498\n",
      "Accuracy epoch 920 -> 0.535004\n",
      "Error epoch 930 -> 0.232498\n",
      "Accuracy epoch 930 -> 0.535004\n",
      "Error epoch 940 -> 0.232498\n",
      "Accuracy epoch 940 -> 0.535004\n",
      "Error epoch 950 -> 0.232498\n",
      "Accuracy epoch 950 -> 0.535004\n",
      "Error epoch 960 -> 0.232498\n",
      "Accuracy epoch 960 -> 0.535004\n",
      "Error epoch 970 -> 0.232498\n",
      "Accuracy epoch 970 -> 0.535004\n",
      "Error epoch 980 -> 0.232498\n",
      "Accuracy epoch 980 -> 0.535004\n",
      "Error epoch 990 -> 0.232498\n",
      "Accuracy epoch 990 -> 0.535004\n",
      "Error epoch 1000 -> 0.232498\n",
      "Accuracy epoch 1000 -> 0.535004\n",
      "Error epoch 1010 -> 0.232498\n",
      "Accuracy epoch 1010 -> 0.535004\n",
      "Error epoch 1020 -> 0.232498\n",
      "Accuracy epoch 1020 -> 0.535004\n",
      "Error epoch 1030 -> 0.232498\n",
      "Accuracy epoch 1030 -> 0.535004\n",
      "Error epoch 1040 -> 0.232498\n",
      "Accuracy epoch 1040 -> 0.535004\n",
      "Error epoch 1050 -> 0.232498\n",
      "Accuracy epoch 1050 -> 0.535004\n",
      "Error epoch 1060 -> 0.232498\n",
      "Accuracy epoch 1060 -> 0.535004\n",
      "Error epoch 1070 -> 0.232498\n",
      "Accuracy epoch 1070 -> 0.535004\n",
      "Error epoch 1080 -> 0.232498\n",
      "Accuracy epoch 1080 -> 0.535004\n",
      "Error epoch 1090 -> 0.232498\n",
      "Accuracy epoch 1090 -> 0.535004\n",
      "Error epoch 1100 -> 0.232498\n",
      "Accuracy epoch 1100 -> 0.535004\n",
      "Error epoch 1110 -> 0.232498\n",
      "Accuracy epoch 1110 -> 0.535004\n",
      "Error epoch 1120 -> 0.232498\n",
      "Accuracy epoch 1120 -> 0.535004\n",
      "Error epoch 1130 -> 0.232498\n",
      "Accuracy epoch 1130 -> 0.535004\n",
      "Error epoch 1140 -> 0.232498\n",
      "Accuracy epoch 1140 -> 0.535004\n",
      "Error epoch 1150 -> 0.232498\n",
      "Accuracy epoch 1150 -> 0.535004\n",
      "Error epoch 1160 -> 0.232498\n",
      "Accuracy epoch 1160 -> 0.535004\n",
      "Error epoch 1170 -> 0.232498\n",
      "Accuracy epoch 1170 -> 0.535004\n",
      "Error epoch 1180 -> 0.232498\n",
      "Accuracy epoch 1180 -> 0.535004\n",
      "Error epoch 1190 -> 0.232498\n",
      "Accuracy epoch 1190 -> 0.535004\n",
      "Error epoch 1200 -> 0.232498\n",
      "Accuracy epoch 1200 -> 0.535004\n",
      "Error epoch 1210 -> 0.232498\n",
      "Accuracy epoch 1210 -> 0.535004\n",
      "Error epoch 1220 -> 0.232498\n",
      "Accuracy epoch 1220 -> 0.535004\n",
      "Error epoch 1230 -> 0.232498\n",
      "Accuracy epoch 1230 -> 0.535004\n",
      "Error epoch 1240 -> 0.232498\n",
      "Accuracy epoch 1240 -> 0.535004\n",
      "Error epoch 1250 -> 0.232498\n",
      "Accuracy epoch 1250 -> 0.535004\n",
      "Error epoch 1260 -> 0.232498\n",
      "Accuracy epoch 1260 -> 0.535004\n",
      "Error epoch 1270 -> 0.232498\n",
      "Accuracy epoch 1270 -> 0.535004\n",
      "Error epoch 1280 -> 0.232498\n",
      "Accuracy epoch 1280 -> 0.535004\n",
      "Error epoch 1290 -> 0.232498\n",
      "Accuracy epoch 1290 -> 0.535004\n",
      "Error epoch 1300 -> 0.232498\n",
      "Accuracy epoch 1300 -> 0.535004\n",
      "Error epoch 1310 -> 0.232498\n",
      "Accuracy epoch 1310 -> 0.535004\n",
      "Error epoch 1320 -> 0.232498\n",
      "Accuracy epoch 1320 -> 0.535004\n",
      "Error epoch 1330 -> 0.232498\n",
      "Accuracy epoch 1330 -> 0.535004\n",
      "Error epoch 1340 -> 0.232498\n",
      "Accuracy epoch 1340 -> 0.535004\n",
      "Error epoch 1350 -> 0.232498\n",
      "Accuracy epoch 1350 -> 0.535004\n",
      "Error epoch 1360 -> 0.232498\n",
      "Accuracy epoch 1360 -> 0.535004\n",
      "Error epoch 1370 -> 0.232498\n",
      "Accuracy epoch 1370 -> 0.535004\n",
      "Error epoch 1380 -> 0.232498\n",
      "Accuracy epoch 1380 -> 0.535004\n",
      "Error epoch 1390 -> 0.232498\n",
      "Accuracy epoch 1390 -> 0.535004\n",
      "Error epoch 1400 -> 0.232498\n",
      "Accuracy epoch 1400 -> 0.535004\n",
      "Error epoch 1410 -> 0.232498\n",
      "Accuracy epoch 1410 -> 0.535004\n",
      "Error epoch 1420 -> 0.232498\n",
      "Accuracy epoch 1420 -> 0.535004\n",
      "Error epoch 1430 -> 0.232498\n",
      "Accuracy epoch 1430 -> 0.535004\n",
      "Error epoch 1440 -> 0.232498\n",
      "Accuracy epoch 1440 -> 0.535004\n",
      "Error epoch 1450 -> 0.232498\n",
      "Accuracy epoch 1450 -> 0.535004\n",
      "Error epoch 1460 -> 0.232498\n",
      "Accuracy epoch 1460 -> 0.535004\n",
      "Error epoch 1470 -> 0.232498\n",
      "Accuracy epoch 1470 -> 0.535004\n",
      "Error epoch 1480 -> 0.232498\n",
      "Accuracy epoch 1480 -> 0.535004\n",
      "Error epoch 1490 -> 0.232498\n",
      "Accuracy epoch 1490 -> 0.535004\n",
      "Error epoch 1500 -> 0.232498\n",
      "Accuracy epoch 1500 -> 0.535004\n",
      "Error epoch 1510 -> 0.232498\n",
      "Accuracy epoch 1510 -> 0.535004\n",
      "Error epoch 1520 -> 0.232498\n",
      "Accuracy epoch 1520 -> 0.535004\n",
      "Error epoch 1530 -> 0.232498\n",
      "Accuracy epoch 1530 -> 0.535004\n",
      "Error epoch 1540 -> 0.232498\n",
      "Accuracy epoch 1540 -> 0.535004\n",
      "Error epoch 1550 -> 0.232498\n",
      "Accuracy epoch 1550 -> 0.535004\n",
      "Error epoch 1560 -> 0.232498\n",
      "Accuracy epoch 1560 -> 0.535004\n",
      "Error epoch 1570 -> 0.232498\n",
      "Accuracy epoch 1570 -> 0.535004\n",
      "Error epoch 1580 -> 0.232498\n",
      "Accuracy epoch 1580 -> 0.535004\n",
      "Error epoch 1590 -> 0.232498\n",
      "Accuracy epoch 1590 -> 0.535004\n",
      "Error epoch 1600 -> 0.232498\n",
      "Accuracy epoch 1600 -> 0.535004\n",
      "Error epoch 1610 -> 0.232498\n",
      "Accuracy epoch 1610 -> 0.535004\n",
      "Error epoch 1620 -> 0.232498\n",
      "Accuracy epoch 1620 -> 0.535004\n",
      "Error epoch 1630 -> 0.232498\n",
      "Accuracy epoch 1630 -> 0.535004\n",
      "Error epoch 1640 -> 0.232498\n",
      "Accuracy epoch 1640 -> 0.535004\n",
      "Error epoch 1650 -> 0.232498\n",
      "Accuracy epoch 1650 -> 0.535004\n",
      "Error epoch 1660 -> 0.232498\n",
      "Accuracy epoch 1660 -> 0.535004\n",
      "Error epoch 1670 -> 0.232498\n",
      "Accuracy epoch 1670 -> 0.535004\n",
      "Error epoch 1680 -> 0.232498\n",
      "Accuracy epoch 1680 -> 0.535004\n",
      "Error epoch 1690 -> 0.232498\n",
      "Accuracy epoch 1690 -> 0.535004\n",
      "Error epoch 1700 -> 0.232498\n",
      "Accuracy epoch 1700 -> 0.535004\n",
      "Error epoch 1710 -> 0.232498\n",
      "Accuracy epoch 1710 -> 0.535004\n",
      "Error epoch 1720 -> 0.232498\n",
      "Accuracy epoch 1720 -> 0.535004\n",
      "Error epoch 1730 -> 0.232498\n",
      "Accuracy epoch 1730 -> 0.535004\n",
      "Error epoch 1740 -> 0.232498\n",
      "Accuracy epoch 1740 -> 0.535004\n",
      "Error epoch 1750 -> 0.232498\n",
      "Accuracy epoch 1750 -> 0.535004\n",
      "Error epoch 1760 -> 0.232498\n",
      "Accuracy epoch 1760 -> 0.535004\n",
      "Error epoch 1770 -> 0.232498\n",
      "Accuracy epoch 1770 -> 0.535004\n",
      "Error epoch 1780 -> 0.232498\n",
      "Accuracy epoch 1780 -> 0.535004\n",
      "Error epoch 1790 -> 0.232498\n",
      "Accuracy epoch 1790 -> 0.535004\n",
      "Error epoch 1800 -> 0.232498\n",
      "Accuracy epoch 1800 -> 0.535004\n",
      "Error epoch 1810 -> 0.232498\n",
      "Accuracy epoch 1810 -> 0.535004\n",
      "Error epoch 1820 -> 0.232498\n",
      "Accuracy epoch 1820 -> 0.535004\n",
      "Error epoch 1830 -> 0.232498\n",
      "Accuracy epoch 1830 -> 0.535004\n",
      "Error epoch 1840 -> 0.232498\n",
      "Accuracy epoch 1840 -> 0.535004\n",
      "Error epoch 1850 -> 0.232498\n",
      "Accuracy epoch 1850 -> 0.535004\n",
      "Error epoch 1860 -> 0.232498\n",
      "Accuracy epoch 1860 -> 0.535004\n",
      "Error epoch 1870 -> 0.232498\n",
      "Accuracy epoch 1870 -> 0.535004\n",
      "Error epoch 1880 -> 0.232498\n",
      "Accuracy epoch 1880 -> 0.535004\n",
      "Error epoch 1890 -> 0.232498\n",
      "Accuracy epoch 1890 -> 0.535004\n",
      "Error epoch 1900 -> 0.232498\n",
      "Accuracy epoch 1900 -> 0.535004\n",
      "Error epoch 1910 -> 0.232498\n",
      "Accuracy epoch 1910 -> 0.535004\n",
      "Error epoch 1920 -> 0.232498\n",
      "Accuracy epoch 1920 -> 0.535004\n",
      "Error epoch 1930 -> 0.232498\n",
      "Accuracy epoch 1930 -> 0.535004\n",
      "Error epoch 1940 -> 0.232498\n",
      "Accuracy epoch 1940 -> 0.535004\n",
      "Error epoch 1950 -> 0.232498\n",
      "Accuracy epoch 1950 -> 0.535004\n",
      "Error epoch 1960 -> 0.232498\n",
      "Accuracy epoch 1960 -> 0.535004\n",
      "Error epoch 1970 -> 0.232498\n",
      "Accuracy epoch 1970 -> 0.535004\n",
      "Error epoch 1980 -> 0.232498\n",
      "Accuracy epoch 1980 -> 0.535004\n",
      "Error epoch 1990 -> 0.232498\n",
      "Accuracy epoch 1990 -> 0.535004\n"
     ]
    }
   ],
   "source": [
    "for epoch in range(epochs):\n",
    "    #İleri Besleme \n",
    "    \n",
    "    hiddenLayer_linearTransform = np.dot(weights_input_hidden.T, X)+bias_in.T\n",
    "    hiddenLayer_activations = relu(hiddenLayer_linearTransform)\n",
    "\n",
    "      # Çıkış\n",
    "    outputLayer_linearTransform = np.dot(weights_hidden_output.T, hiddenLayer_activations)+bias_out\n",
    "    output = sigmoid(outputLayer_linearTransform)\n",
    "    \n",
    "    #Geri Besleme\n",
    "\n",
    "    error = np.square(y - output) / 2\n",
    "\n",
    "      # Output-Hidden\n",
    "    error_output = -(y - output)\n",
    "    output_wrt_outputLayer_LinearTransform = np.multiply(output, (1 - output))\n",
    "    outputLayer_LinearTransform_wrt_weights_hidden_output = hiddenLayer_activations\n",
    "\n",
    "    error_wrt_weights_hidden_output = np.dot(\n",
    "        outputLayer_LinearTransform_wrt_weights_hidden_output,\n",
    "        (error_output * output_wrt_outputLayer_LinearTransform).T,\n",
    "    )\n",
    "\n",
    "      # Hidden-Input\n",
    "    outputLayer_LinearTransform_wrt_hiddenLayer_activations = weights_hidden_output\n",
    "    hiddenLayer_activations_wrt_hiddenLayer_linearTransform = np.multiply(\n",
    "        hiddenLayer_activations, (1 - hiddenLayer_activations))\n",
    "    hiddenLayer_linearTransform_wrt_weights_input_hidden = X\n",
    "    \n",
    "    error_wrt_weights_input_hidden = np.dot(\n",
    "        hiddenLayer_linearTransform_wrt_weights_input_hidden,\n",
    "        (\n",
    "            hiddenLayer_activations_wrt_hiddenLayer_linearTransform\n",
    "            * np.dot(\n",
    "                outputLayer_LinearTransform_wrt_hiddenLayer_activations,\n",
    "                (output_wrt_outputLayer_LinearTransform * error_output),\n",
    "            )\n",
    "        ).T,\n",
    "    )\n",
    "\n",
    "    weights_hidden_output -= lr * error_wrt_weights_hidden_output\n",
    "    weights_input_hidden -= lr * error_wrt_weights_input_hidden\n",
    "    bias_out=weights_hidden_output[-1]\n",
    "    bias_in=weights_input_hidden[[-1,]]\n",
    "    epoch_acc=accuracy_score(y,output[0]>0.49)\n",
    "    accuracy.append(epoch_acc)\n",
    "\n",
    "    epoch_loss = np.average(error)\n",
    "    losses.append(epoch_loss)\n",
    "    if epoch % 10 == 0:\n",
    "        print(f\"Error epoch {epoch} -> {epoch_loss:f}\")\n",
    "        print(f\"Accuracy epoch {epoch} -> {epoch_acc:f}\")"
   ]
  },
  {
   "cell_type": "code",
   "execution_count": 81,
   "id": "fbcb4c40",
   "metadata": {},
   "outputs": [
    {
     "data": {
      "text/plain": [
       "[<matplotlib.lines.Line2D at 0x1b3bc8462b0>]"
      ]
     },
     "execution_count": 81,
     "metadata": {},
     "output_type": "execute_result"
    },
    {
     "data": {
      "image/png": "[encoded data removed]",
      "text/plain": [
       "<Figure size 432x288 with 1 Axes>"
      ]
     },
     "metadata": {
      "needs_background": "light"
     },
     "output_type": "display_data"
    }
   ],
   "source": [
    "plt.plot(np.arange(1, epochs + 1), np.array(losses))"
   ]
  },
  {
   "cell_type": "code",
   "execution_count": 82,
   "id": "409b65f1",
   "metadata": {},
   "outputs": [
    {
     "data": {
      "text/plain": [
       "[<matplotlib.lines.Line2D at 0x1b3bc89a970>]"
      ]
     },
     "execution_count": 82,
     "metadata": {},
     "output_type": "execute_result"
    },
    {
     "data": {
      "image/png": "[encoded data removed]",
      "text/plain": [
       "<Figure size 432x288 with 1 Axes>"
      ]
     },
     "metadata": {
      "needs_background": "light"
     },
     "output_type": "display_data"
    }
   ],
   "source": [
    "plt.plot(np.arange(1, epochs + 1), np.array(accuracy))"
   ]
  },
  {
   "cell_type": "code",
   "execution_count": 158,
   "id": "f48f61ad",
   "metadata": {},
   "outputs": [
    {
     "data": {
      "text/plain": [
       "0.9999802474892103"
      ]
     },
     "execution_count": 158,
     "metadata": {},
     "output_type": "execute_result"
    }
   ],
   "source": [
    "output[0].mean()"
   ]
  },
  {
   "cell_type": "code",
   "execution_count": 159,
   "id": "8814e802",
   "metadata": {},
   "outputs": [
    {
     "data": {
      "text/plain": [
       "array([[1.        , 1.        , 1.        , 0.99999963, 0.99999924,\n",
       "        1.        , 0.99999998, 1.        , 1.        , 1.        ,\n",
       "        1.        , 1.        , 1.        , 0.99998984, 1.        ,\n",
       "        1.        , 0.99999991, 1.        , 1.        , 1.        ]])"
      ]
     },
     "execution_count": 159,
     "metadata": {},
     "output_type": "execute_result"
    }
   ],
   "source": [
    "output[:,:20]"
   ]
  },
  {
   "cell_type": "code",
   "execution_count": 160,
   "id": "97c88e5c",
   "metadata": {},
   "outputs": [
    {
     "data": {
      "text/plain": [
       "array([0, 0, 0, 1, 1, 1, 1, 1, 0, 0, 0, 0, 0, 1, 0, 1, 0, 0, 1, 0])"
      ]
     },
     "execution_count": 160,
     "metadata": {},
     "output_type": "execute_result"
    }
   ],
   "source": [
    "y[:20]"
   ]
  },
  {
   "cell_type": "code",
   "execution_count": 233,
   "id": "78c13cff",
   "metadata": {},
   "outputs": [
    {
     "data": {
      "text/plain": [
       "array([0.48968653, 0.48904795, 0.48415059, ..., 0.48014272, 0.4924476 ,\n",
       "       0.49084245])"
      ]
     },
     "execution_count": 233,
     "metadata": {},
     "output_type": "execute_result"
    }
   ],
   "source": [
    "output[0]"
   ]
  },
  {
   "cell_type": "code",
   "execution_count": 167,
   "id": "d7d5a999",
   "metadata": {},
   "outputs": [
    {
     "data": {
      "text/plain": [
       "array([1, 1, 0, ..., 1, 1, 1])"
      ]
     },
     "execution_count": 167,
     "metadata": {},
     "output_type": "execute_result"
    }
   ],
   "source": [
    "y"
   ]
  },
  {
   "cell_type": "code",
   "execution_count": null,
   "id": "d4cfff23",
   "metadata": {},
   "outputs": [],
   "source": []
  }
 ],
 "metadata": {
  "kernelspec": {
   "display_name": "Python 3",
   "language": "python",
   "name": "python3"
  },
  "language_info": {
   "codemirror_mode": {
    "name": "ipython",
    "version": 3
   },
   "file_extension": ".py",
   "mimetype": "text/x-python",
   "name": "python",
   "nbconvert_exporter": "python",
   "pygments_lexer": "ipython3",
   "version": "3.8.8"
  }
 },
 "nbformat": 4,
 "nbformat_minor": 5
}
