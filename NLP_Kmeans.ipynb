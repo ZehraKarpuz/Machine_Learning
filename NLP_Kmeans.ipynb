{
 "cells": [
  {
   "cell_type": "code",
   "execution_count": 23,
   "id": "02c5b6b3",
   "metadata": {},
   "outputs": [],
   "source": [
    "import numpy as np\n",
    "import pandas as pd\n",
    "import matplotlib.pyplot as plt\n",
    "from math import sqrt"
   ]
  },
  {
   "cell_type": "code",
   "execution_count": 2,
   "id": "c71fc8cd",
   "metadata": {},
   "outputs": [],
   "source": [
    "df=pd.read_csv(\"data.csv\")"
   ]
  },
  {
   "cell_type": "code",
   "execution_count": 15,
   "id": "eaea8055",
   "metadata": {},
   "outputs": [
    {
     "data": {
      "text/html": [
       "<div>\n",
       "<style scoped>\n",
       "    .dataframe tbody tr th:only-of-type {\n",
       "        vertical-align: middle;\n",
       "    }\n",
       "\n",
       "    .dataframe tbody tr th {\n",
       "        vertical-align: top;\n",
       "    }\n",
       "\n",
       "    .dataframe thead th {\n",
       "        text-align: right;\n",
       "    }\n",
       "</style>\n",
       "<table border=\"1\" class=\"dataframe\">\n",
       "  <thead>\n",
       "    <tr style=\"text-align: right;\">\n",
       "      <th></th>\n",
       "      <th>shown</th>\n",
       "      <th>clicked</th>\n",
       "      <th>converted</th>\n",
       "      <th>avg_cost_per_click</th>\n",
       "      <th>total_revenue</th>\n",
       "    </tr>\n",
       "  </thead>\n",
       "  <tbody>\n",
       "    <tr>\n",
       "      <th>0</th>\n",
       "      <td>65877</td>\n",
       "      <td>2339</td>\n",
       "      <td>43</td>\n",
       "      <td>0.90</td>\n",
       "      <td>641.62</td>\n",
       "    </tr>\n",
       "    <tr>\n",
       "      <th>1</th>\n",
       "      <td>65100</td>\n",
       "      <td>2498</td>\n",
       "      <td>38</td>\n",
       "      <td>0.94</td>\n",
       "      <td>756.37</td>\n",
       "    </tr>\n",
       "    <tr>\n",
       "      <th>2</th>\n",
       "      <td>70658</td>\n",
       "      <td>2313</td>\n",
       "      <td>49</td>\n",
       "      <td>0.86</td>\n",
       "      <td>970.90</td>\n",
       "    </tr>\n",
       "    <tr>\n",
       "      <th>3</th>\n",
       "      <td>69809</td>\n",
       "      <td>2833</td>\n",
       "      <td>51</td>\n",
       "      <td>1.01</td>\n",
       "      <td>907.39</td>\n",
       "    </tr>\n",
       "    <tr>\n",
       "      <th>4</th>\n",
       "      <td>68186</td>\n",
       "      <td>2696</td>\n",
       "      <td>41</td>\n",
       "      <td>1.00</td>\n",
       "      <td>879.45</td>\n",
       "    </tr>\n",
       "  </tbody>\n",
       "</table>\n",
       "</div>"
      ],
      "text/plain": [
       "   shown  clicked  converted  avg_cost_per_click  total_revenue\n",
       "0  65877     2339         43                0.90         641.62\n",
       "1  65100     2498         38                0.94         756.37\n",
       "2  70658     2313         49                0.86         970.90\n",
       "3  69809     2833         51                1.01         907.39\n",
       "4  68186     2696         41                1.00         879.45"
      ]
     },
     "execution_count": 15,
     "metadata": {},
     "output_type": "execute_result"
    }
   ],
   "source": [
    "df1=df.iloc[:,1:6]# Etiket ve tarih alınmadı\n",
    "df1.head()"
   ]
  },
  {
   "cell_type": "code",
   "execution_count": 18,
   "id": "0d03caa3",
   "metadata": {},
   "outputs": [],
   "source": [
    "k = 3\n",
    "max_iter = 100\n",
    "threshold = 0.5\n",
    "centroids = {} "
   ]
  },
  {
   "cell_type": "code",
   "execution_count": 17,
   "id": "d1652928",
   "metadata": {},
   "outputs": [],
   "source": [
    "def distance(feat_one, feat_two):\n",
    "    squared_distance = 0\n",
    "\n",
    "    for i in range(len(feat_one)):\n",
    "        squared_distance += (feat_one[i] - feat_two[i])**2\n",
    "\n",
    "    return sqrt(squared_distance);"
   ]
  },
  {
   "cell_type": "code",
   "execution_count": 35,
   "id": "2f1e6993",
   "metadata": {},
   "outputs": [
    {
     "data": {
      "text/plain": [
       "2115"
      ]
     },
     "execution_count": 35,
     "metadata": {},
     "output_type": "execute_result"
    }
   ],
   "source": [
    "X=df1.values.tolist() \n",
    "len(X)"
   ]
  },
  {
   "cell_type": "code",
   "execution_count": 43,
   "id": "d202ee16",
   "metadata": {},
   "outputs": [
    {
     "data": {
      "text/plain": [
       "[77907.0, 1391.0, 34.0, 0.99, 409.3]"
      ]
     },
     "execution_count": 43,
     "metadata": {},
     "output_type": "execute_result"
    }
   ],
   "source": [
    "for feature in X:\n",
    "    distances = [distance(feature, centroids[centroid]) for centroid in centroids]\n",
    "feature"
   ]
  },
  {
   "cell_type": "code",
   "execution_count": 54,
   "id": "b4edf7be",
   "metadata": {},
   "outputs": [
    {
     "data": {
      "text/plain": [
       "dict_keys([0, 1, 2])"
      ]
     },
     "execution_count": 54,
     "metadata": {},
     "output_type": "execute_result"
    }
   ],
   "source": [
    "classes.keys()"
   ]
  },
  {
   "cell_type": "code",
   "execution_count": 57,
   "id": "f64d2bb3",
   "metadata": {},
   "outputs": [
    {
     "data": {
      "text/plain": [
       "array([1.43267944e+05, 5.43615444e+03, 1.88459459e+02, 1.12308880e+00,\n",
       "       2.94497591e+03])"
      ]
     },
     "execution_count": 57,
     "metadata": {},
     "output_type": "execute_result"
    }
   ],
   "source": [
    "centroids[2]"
   ]
  },
  {
   "cell_type": "code",
   "execution_count": 59,
   "id": "b393038c",
   "metadata": {},
   "outputs": [
    {
     "data": {
      "text/plain": [
       "[array([6.68863710e+04, 1.17145161e+03, 3.08387097e+01, 6.76935484e-01,\n",
       "        4.64046935e+02]),\n",
       " array([3.33482209e+04, 1.59505688e+03, 6.22679308e+01, 1.43488871e+00,\n",
       "        9.60581286e+02]),\n",
       " array([1.18875981e+05, 5.30496310e+03, 2.26198810e+02, 1.33689286e+00,\n",
       "        3.53003415e+03])]"
      ]
     },
     "execution_count": 59,
     "metadata": {},
     "output_type": "execute_result"
    }
   ],
   "source": [
    "centroid_points[1]"
   ]
  },
  {
   "cell_type": "code",
   "execution_count": 49,
   "id": "c6d7a9ca",
   "metadata": {},
   "outputs": [],
   "source": [
    "for i in range(k):\n",
    "    centroids[i] = X[i]\n",
    "\n",
    "centroid_points = []\n",
    "centroid_points.append([centroids[i] for i in range(k)])\n",
    "\n",
    "errors = []\n",
    "\n",
    "for epoch in range(max_iter):\n",
    "    classes = {}\n",
    "    for i in range(k):\n",
    "        classes[i] = [] #K clusters initialization\n",
    "\n",
    "    #Clustering the points based on distance function to centroids\n",
    "    for feature in X:\n",
    "        distances = [distance(feature, centroids[centroid]) for centroid in centroids]\n",
    "        classification = distances.index(min(distances))\n",
    "        classes[classification].append(feature)\n",
    "\n",
    "    error = 0\n",
    "    \n",
    "    #Cost(J) calculation (intra-cluster distances)\n",
    "    for j in classes.keys():\n",
    "        for point in classes[j]:\n",
    "            diff = distance(point, centroids[j])\n",
    "            error += diff * diff \n",
    "    \n",
    "    errors.append(error)\n",
    "    \n",
    "    #Terminate\n",
    "    if epoch > 0:\n",
    "        if (errors[epoch - 1] - error) < threshold:\n",
    "            break\n",
    "\n",
    "    #Recalculation of centroids\n",
    "    for classification in classes:\n",
    "        centroids[classification] = np.average(classes[classification], axis = 0)\n",
    "\n",
    "    centroid_points.append([centroids[i] for i in range(3)])"
   ]
  },
  {
   "cell_type": "code",
   "execution_count": 25,
   "id": "5b2e1668",
   "metadata": {},
   "outputs": [
    {
     "name": "stdout",
     "output_type": "stream",
     "text": [
      "[array([6.82766667e+04, 3.58947898e+03, 1.78216216e+02, 1.35717718e+00,\n",
      "       2.80588096e+03]), array([2.66048507e+04, 1.35024919e+03, 5.49258861e+01, 1.52506982e+00,\n",
      "       8.21665371e+02]), array([1.43267944e+05, 5.43615444e+03, 1.88459459e+02, 1.12308880e+00,\n",
      "       2.94497591e+03])]\n"
     ]
    }
   ],
   "source": [
    "print(centroid_points[-1])"
   ]
  },
  {
   "cell_type": "code",
   "execution_count": null,
   "id": "787cb38a",
   "metadata": {},
   "outputs": [],
   "source": []
  }
 ],
 "metadata": {
  "kernelspec": {
   "display_name": "Python 3",
   "language": "python",
   "name": "python3"
  },
  "language_info": {
   "codemirror_mode": {
    "name": "ipython",
    "version": 3
   },
   "file_extension": ".py",
   "mimetype": "text/x-python",
   "name": "python",
   "nbconvert_exporter": "python",
   "pygments_lexer": "ipython3",
   "version": "3.8.8"
  }
 },
 "nbformat": 4,
 "nbformat_minor": 5
}
