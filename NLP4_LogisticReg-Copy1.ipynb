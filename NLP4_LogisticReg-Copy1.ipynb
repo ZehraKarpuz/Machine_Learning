{
 "cells": [
  {
   "cell_type": "code",
   "execution_count": null,
   "id": "b958a6f6",
   "metadata": {},
   "outputs": [],
   "source": [
    "import numpy as np\n",
    "import pandas as pd\n",
    "import seaborn as sns\n",
    "from numpy import log,dot,exp,shape"
   ]
  },
  {
   "cell_type": "code",
   "execution_count": null,
   "id": "7c34ee5c",
   "metadata": {},
   "outputs": [],
   "source": [
    "from sklearn.datasets import make_classification\n",
    "X, y = make_classification(n_features=4)\n",
    "from sklearn.model_selection import train_test_split  \n",
    "X_tr,X_te,y_tr,y_te = train_test_split(X,y,test_size=0.1)"
   ]
  },
  {
   "cell_type": "code",
   "execution_count": null,
   "id": "21cf242f",
   "metadata": {},
   "outputs": [],
   "source": [
    "'''df = pd.read_csv('diabetes.csv')\n",
    "x=df[['Pregnancies','Glucose','BloodPressure','SkinThickness','Insulin','BMI','DiabetesPedigreeFunction','Age']]\n",
    "y=df['Outcome']\n",
    "X_tr,X_te,y_tr,y_te = train_test_split(x,y,test_size=0.1)'''"
   ]
  },
  {
   "cell_type": "code",
   "execution_count": null,
   "id": "38c3833e",
   "metadata": {},
   "outputs": [],
   "source": [
    "def sigmoid(input):    \n",
    "    output = 1 / (1 + np.exp(-input))\n",
    "    return output"
   ]
  },
  {
   "cell_type": "code",
   "execution_count": null,
   "id": "90e0727d",
   "metadata": {},
   "outputs": [],
   "source": [
    "init_parameters = {} \n",
    "init_parameters[\"weight\"] = np.zeros(X_tr.shape[1])\n",
    "init_parameters[\"bias\"] = 0"
   ]
  },
  {
   "cell_type": "code",
   "execution_count": null,
   "id": "7cc1aa8b",
   "metadata": {},
   "outputs": [],
   "source": [
    "def optimize(x, y,learning_rate,iterations,parameters): \n",
    "    size = x.shape[0]#train sayısı\n",
    "    weight = parameters[\"weight\"] \n",
    "    bias = parameters[\"bias\"]\n",
    "    \n",
    "    for i in range(iterations): \n",
    "        sigma = sigmoid(np.dot(x, weight) + bias)\n",
    "        loss = -1/size * np.sum(y * np.log(sigma)) + (1 - y) * np.log(1-sigma)\n",
    "        dW = 1/size * np.dot(x.T, (sigma - y))\n",
    "        db = 1/size * np.sum(sigma - y)\n",
    "        weight -= learning_rate * dW\n",
    "        bias -= learning_rate * db \n",
    "    \n",
    "    parameters[\"weight\"] = weight\n",
    "    parameters[\"bias\"] = bias\n",
    "    return parameters"
   ]
  },
  {
   "cell_type": "code",
   "execution_count": null,
   "id": "3aabcb39",
   "metadata": {},
   "outputs": [],
   "source": [
    "def train(x, y, learning_rate,iterations):\n",
    "    parameters_out = optimize(x, y, learning_rate, iterations ,init_parameters)\n",
    "    return parameters_out"
   ]
  },
  {
   "cell_type": "code",
   "execution_count": null,
   "id": "f3bd877e",
   "metadata": {},
   "outputs": [],
   "source": [
    "parameters_out = train(X_tr, y_tr, learning_rate = 0.02, iterations = 500)"
   ]
  },
  {
   "cell_type": "code",
   "execution_count": null,
   "id": "19f86fa2",
   "metadata": {},
   "outputs": [],
   "source": [
    "parameters_out"
   ]
  },
  {
   "cell_type": "code",
   "execution_count": null,
   "id": "71443b29",
   "metadata": {},
   "outputs": [],
   "source": [
    "output_values = np.dot(X_te, parameters_out[\"weight\"]) + parameters_out[\"bias\"]\n",
    "predictions = sigmoid(output_values) >= 1/2\n",
    "predictions"
   ]
  },
  {
   "cell_type": "code",
   "execution_count": null,
   "id": "f330ec03",
   "metadata": {},
   "outputs": [],
   "source": [
    "from sklearn.metrics import accuracy_score\n",
    "print(\"Accuracy of prediction on test set : \", accuracy_score(y_te,predictions))"
   ]
  },
  {
   "cell_type": "code",
   "execution_count": null,
   "id": "e887d7a5",
   "metadata": {},
   "outputs": [],
   "source": []
  }
 ],
 "metadata": {
  "kernelspec": {
   "display_name": "Python 3",
   "language": "python",
   "name": "python3"
  },
  "language_info": {
   "codemirror_mode": {
    "name": "ipython",
    "version": 3
   },
   "file_extension": ".py",
   "mimetype": "text/x-python",
   "name": "python",
   "nbconvert_exporter": "python",
   "pygments_lexer": "ipython3",
   "version": "3.8.8"
  }
 },
 "nbformat": 4,
 "nbformat_minor": 5
}
