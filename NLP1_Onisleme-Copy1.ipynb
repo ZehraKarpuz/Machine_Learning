{
 "cells": [
  {
   "cell_type": "code",
   "execution_count": null,
   "id": "e290400d",
   "metadata": {},
   "outputs": [],
   "source": [
    "import pandas as pd\n",
    "import textblob\n",
    "from textblob import TextBlob\n",
    "import nltk\n",
    "from nltk.corpus import stopwords\n",
    "import string"
   ]
  },
  {
   "cell_type": "code",
   "execution_count": null,
   "id": "d4627615",
   "metadata": {},
   "outputs": [],
   "source": [
    "df=pd.read_csv(\"temp_data3.csv\")\n",
    "df.head()"
   ]
  },
  {
   "cell_type": "code",
   "execution_count": null,
   "id": "36436437",
   "metadata": {},
   "outputs": [],
   "source": [
    "df.shape"
   ]
  },
  {
   "cell_type": "code",
   "execution_count": null,
   "id": "4245e375",
   "metadata": {},
   "outputs": [],
   "source": [
    "df[\"Sentiment\"].value_counts()"
   ]
  },
  {
   "cell_type": "code",
   "execution_count": null,
   "id": "12f57900",
   "metadata": {},
   "outputs": [],
   "source": [
    "veri=df[\"entire_text\"].apply(lambda x: \" \".join(x.lower() for x in x.split()))# büyük harfler küçüğe dönüştürüldü"
   ]
  },
  {
   "cell_type": "code",
   "execution_count": null,
   "id": "97965fee",
   "metadata": {},
   "outputs": [],
   "source": [
    "veri.head()"
   ]
  },
  {
   "cell_type": "code",
   "execution_count": null,
   "id": "d0464929",
   "metadata": {},
   "outputs": [],
   "source": [
    "veri2=veri.str.replace(\"[^\\w\\s]\",\"\")# harf dışı simgeler ve noktalama silindi\n",
    "#Noktalama işaretleri başka yöntem->noktalama=string.punctuation"
   ]
  },
  {
   "cell_type": "code",
   "execution_count": null,
   "id": "c1dcf741",
   "metadata": {},
   "outputs": [],
   "source": [
    "veri2.head()"
   ]
  },
  {
   "cell_type": "code",
   "execution_count": null,
   "id": "9f285ddd",
   "metadata": {},
   "outputs": [],
   "source": [
    "nltk.download(\"stopwords\")\n",
    "duraklama_kelimeleri = stopwords.words()\n",
    "veri3=pd.DataFrame(veri2,columns=[\"entire_text\"])\n",
    "veri4=veri3[\"entire_text\"].apply(lambda x: \" \".join(x for x in x.split() if x not in duraklama_kelimeleri))"
   ]
  },
  {
   "cell_type": "code",
   "execution_count": null,
   "id": "44e75aa6",
   "metadata": {},
   "outputs": [],
   "source": [
    "for i in veri4[\"entire_text\"]:\n",
    "    print(i,\"\\n\")"
   ]
  },
  {
   "cell_type": "code",
   "execution_count": null,
   "id": "85b7b0c8",
   "metadata": {},
   "outputs": [],
   "source": [
    "veri4 = pd.DataFrame(veri4, columns = [\"entire_text\"])# veri4 Series olduğundan\n",
    "pd.Series(\" \".join(veri4[\"entire_text\"]).split()).value_counts()\n",
    "#En az geçen kelimeleri sıralayıp en sondaki kelime çıkarıldı\n",
    "az = pd.Series(\" \".join(veri4[\"entire_text\"]).split()).value_counts()[-1:]\n",
    "veri5 = veri4[\"entire_text\"].apply(lambda x: \" \".join(i for i in x.split() if i not in az)) \n",
    "\n",
    "#En baş yani en çok geçen 3 kelime\n",
    "cok = pd.Series(\" \".join(veri4[\"entire_text\"]).split()).value_counts()[0:3] \n",
    "veri6 = veri4[\"entire_text\"].apply(lambda x: \" \".join(i for i in x.split() if i not in cok))"
   ]
  },
  {
   "cell_type": "code",
   "execution_count": null,
   "id": "034d546e",
   "metadata": {},
   "outputs": [],
   "source": [
    "veri6.head()"
   ]
  },
  {
   "cell_type": "code",
   "execution_count": null,
   "id": "4b4c5349",
   "metadata": {},
   "outputs": [],
   "source": [
    "sentiment=df[\"Sentiment\"]\n",
    "veri7=pd.concat([veri6,sentiment],axis=1)"
   ]
  },
  {
   "cell_type": "code",
   "execution_count": null,
   "id": "5344b5e9",
   "metadata": {},
   "outputs": [],
   "source": [
    "veri7.head()"
   ]
  },
  {
   "cell_type": "code",
   "execution_count": null,
   "id": "5d2b4990",
   "metadata": {},
   "outputs": [],
   "source": [
    "from sklearn.model_selection import train_test_split\n",
    "X_train,X_test,y_train,y_test=train_test_split(veri7[\"entire_text\"].values.astype('U'),\n",
    "                                              veri7[\"Sentiment\"].values.astype('U'),test_size=0.1,random_state=42)\n",
    "#astype('U')-> verileri dizeye dönüştürür\n",
    "print(X_train.shape)\n",
    "print(X_test.shape)"
   ]
  },
  {
   "cell_type": "code",
   "execution_count": null,
   "id": "dfc71007",
   "metadata": {},
   "outputs": [],
   "source": [
    "from sklearn.feature_extraction.text import CountVectorizer\n",
    "count_vect=CountVectorizer()\n",
    "X_train_counts=count_vect.fit_transform(X_train)#yorumlarda geçen kelimelerin sayısını tutan vektör oluşturulur,sayma vektörü\n",
    "print(X_tarin_counts.shape)"
   ]
  },
  {
   "cell_type": "code",
   "execution_count": null,
   "id": "e07cb413",
   "metadata": {},
   "outputs": [],
   "source": [
    "from sklearn.feature_extraction.text import TfidfTransformer\n",
    "tfidf_transformer=TfidfTransformer()\n",
    "X_train_tfidf=tfidf_transformer.fit_transform(X_train_counts)#yorumu temsil edecek,diğer yorumlarda sıklıkla geçmeyen kelimeler \n",
    "print(X_train_tfidf.shape)# yorumsayısı, kelimesayısı\n",
    "#tf kelimenin metinde kaç kere geçtiğini, idf bir kelimenin kaç dokümanda geçtiğini verir,tfidf bir kelimenin doküman için önemi"
   ]
  },
  {
   "cell_type": "code",
   "execution_count": null,
   "id": "81cbcecc",
   "metadata": {},
   "outputs": [],
   "source": [
    "from sklearn.naive_bayes import MultinomialNB\n",
    "clf=MultinomialNB().fit(X_train_tfidf,y_train)#y_train->etiketler\n",
    "X_test_counts=count_vect.transform(X_test)\n",
    "X_test_tfidf=tfidf_transformer.transform(X_test_counts)#test için ayrılan veri yorumlarının tfidf çevirimi\n",
    "print(X_test_tfidf.shape)"
   ]
  },
  {
   "cell_type": "code",
   "execution_count": null,
   "id": "f7842a74",
   "metadata": {},
   "outputs": [],
   "source": [
    "y_pred=clf.predict(X_test_tfidf)\n",
    "for review, sentiment in zip(X_test[:5],y_pred[:]):\n",
    "    print('%r ---> %s'%(review,sentiment))"
   ]
  },
  {
   "cell_type": "code",
   "execution_count": null,
   "id": "8dfc3766",
   "metadata": {},
   "outputs": [],
   "source": [
    "from sklearn.metrics import accuracy_score\n",
    "print(accuracy_score(y_test,y_pred))"
   ]
  },
  {
   "cell_type": "code",
   "execution_count": null,
   "id": "f8c95e35",
   "metadata": {},
   "outputs": [],
   "source": []
  }
 ],
 "metadata": {
  "kernelspec": {
   "display_name": "Python 3",
   "language": "python",
   "name": "python3"
  },
  "language_info": {
   "codemirror_mode": {
    "name": "ipython",
    "version": 3
   },
   "file_extension": ".py",
   "mimetype": "text/x-python",
   "name": "python",
   "nbconvert_exporter": "python",
   "pygments_lexer": "ipython3",
   "version": "3.8.8"
  }
 },
 "nbformat": 4,
 "nbformat_minor": 5
}
