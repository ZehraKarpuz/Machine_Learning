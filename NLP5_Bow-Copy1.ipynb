{
 "cells": [
  {
   "cell_type": "code",
   "execution_count": null,
   "id": "2ff1b767",
   "metadata": {},
   "outputs": [],
   "source": [
    "import numpy as np\n",
    "from nltk.tokenize import word_tokenize\n",
    "from collections import defaultdict \n",
    "import pandas as pd\n",
    "import nltk\n",
    "from sklearn.model_selection import train_test_split\n",
    "import matplotlib.pyplot as plt \n",
    "from sklearn.metrics import accuracy_score"
   ]
  },
  {
   "cell_type": "code",
   "execution_count": null,
   "id": "110a63d9",
   "metadata": {},
   "outputs": [],
   "source": [
    "df=pd.read_csv(\"temp_data3.csv\")\n",
    "df=df.iloc[:4000,:]"
   ]
  },
  {
   "cell_type": "code",
   "execution_count": null,
   "id": "5dc0280c",
   "metadata": {},
   "outputs": [],
   "source": [
    "list1=[]\n",
    "list1=df.Sentiment.values\n",
    "for i in range(len(list1)):\n",
    "    if(list1[i]==\"mixed\"):\n",
    "        df.drop([i],axis=0,inplace=True)\n",
    "    elif(list1[i]==\"neutral\"):\n",
    "        df.drop([i],axis=0,inplace=True)\n",
    "\n",
    "df[\"Sentiment\"].value_counts()"
   ]
  },
  {
   "cell_type": "code",
   "execution_count": null,
   "id": "81f631ce",
   "metadata": {},
   "outputs": [],
   "source": [
    "text=df[\"cleaned_text\"]\n",
    "sentiment=df[\"Sentiment\"]\n",
    "dataf=pd.concat([text,sentiment],axis=1)"
   ]
  },
  {
   "cell_type": "code",
   "execution_count": null,
   "id": "4d5c7d4b",
   "metadata": {},
   "outputs": [],
   "source": [
    "data=dataf[\"cleaned_text\"].apply(lambda x: \" \".join(x.lower() for x in x.split()))\n",
    "data=data.str.replace(\"[^\\w\\s]\",\"\")#harf dışı simgeler,noktalama\n",
    "data= data.str.replace(\" \\d+\", \" \")#sayılar \n",
    "from nltk.corpus import stopwords\n",
    "nltk.download(\"stopwords\")\n",
    "duraklama_kelimeleri = stopwords.words()\n",
    "data=pd.DataFrame(data,columns=[\"cleaned_text\"])\n",
    "data=data[\"cleaned_text\"].apply(lambda x: \" \".join(x for x in x.split() if x not in duraklama_kelimeleri))\n",
    "data=pd.concat([data,sentiment],axis=1)"
   ]
  },
  {
   "cell_type": "code",
   "execution_count": null,
   "id": "0e0c261b",
   "metadata": {},
   "outputs": [],
   "source": [
    "cleaned_text = data['cleaned_text'].values\n",
    "labels = data['Sentiment'].values"
   ]
  },
  {
   "cell_type": "code",
   "execution_count": null,
   "id": "ac57eee7",
   "metadata": {},
   "outputs": [],
   "source": [
    "cleaned_text=np.array(cleaned_text)"
   ]
  },
  {
   "cell_type": "code",
   "execution_count": null,
   "id": "79c22784",
   "metadata": {},
   "outputs": [],
   "source": [
    "nltk.download('punkt')\n",
    "#clean the corpus.\n",
    "sentences = []\n",
    "vocab = []\n",
    "for sent in cleaned_text:\n",
    "    x = word_tokenize(sent)\n",
    "    sentence = [w.lower() for w in x if w.isalpha() ]# harf olup ulmadığını kontrol eder isalpha\n",
    "    sentences.append(sentence)\n",
    "    for word in sentence:\n",
    "        if word not in vocab:\n",
    "            vocab.append(word)\n",
    "len_vector = len(vocab)"
   ]
  },
  {
   "cell_type": "code",
   "execution_count": null,
   "id": "95a0e10d",
   "metadata": {},
   "outputs": [],
   "source": [
    "index_word = {}\n",
    "i = 0\n",
    "for word in vocab:\n",
    "    index_word[word] = i \n",
    "    i += 1"
   ]
  },
  {
   "cell_type": "code",
   "execution_count": null,
   "id": "23a5d4ca",
   "metadata": {},
   "outputs": [],
   "source": [
    "sentences[1]"
   ]
  },
  {
   "cell_type": "code",
   "execution_count": null,
   "id": "a97139c9",
   "metadata": {},
   "outputs": [],
   "source": [
    "count_dict = defaultdict(int)\n",
    "vec = np.zeros(len_vector)\n",
    "for item in sentences[1]:\n",
    "    count_dict[item] += 1\n",
    "for key,item in count_dict.items():\n",
    "    vec[index_word[key]] = item"
   ]
  },
  {
   "cell_type": "code",
   "execution_count": null,
   "id": "6f847c48",
   "metadata": {},
   "outputs": [],
   "source": [
    "index_word"
   ]
  },
  {
   "cell_type": "code",
   "execution_count": null,
   "id": "1e1e1980",
   "metadata": {},
   "outputs": [],
   "source": [
    "count_dict"
   ]
  },
  {
   "cell_type": "code",
   "execution_count": null,
   "id": "82666c45",
   "metadata": {},
   "outputs": [],
   "source": [
    "def bag_of_words(sent):\n",
    "    count_dict = defaultdict(int)\n",
    "    vec = np.zeros(len_vector)\n",
    "    for item in sent:\n",
    "        count_dict[item] += 1\n",
    "    for key,item in count_dict.items():\n",
    "        vec[index_word[key]] = item\n",
    "    return vec   "
   ]
  },
  {
   "cell_type": "code",
   "execution_count": null,
   "id": "6fbcc9d0",
   "metadata": {},
   "outputs": [],
   "source": [
    "vocab"
   ]
  },
  {
   "cell_type": "code",
   "execution_count": null,
   "id": "6cae7552",
   "metadata": {},
   "outputs": [],
   "source": [
    "tablo = np.zeros((len(sentences),len(vocab)))\n",
    "tablo =pd.DataFrame(tablo,columns=vocab)\n",
    "i=0\n",
    "j=0\n",
    "for i in range(len(vocab)):\n",
    "    if i<len(sentences):\n",
    "        vector = bag_of_words(sentences[j])\n",
    "        tablo.loc[i] = vector\n",
    "        j+=1\n",
    "vector = vector.astype(\"float64\")\n",
    "tablo"
   ]
  },
  {
   "cell_type": "code",
   "execution_count": null,
   "id": "d1547ad8",
   "metadata": {},
   "outputs": [],
   "source": [
    "len(vector)"
   ]
  },
  {
   "cell_type": "code",
   "execution_count": null,
   "id": "7f512d1f",
   "metadata": {},
   "outputs": [],
   "source": [
    "tablo = tablo.astype(\"float64\")"
   ]
  },
  {
   "cell_type": "code",
   "execution_count": null,
   "id": "c9da02e0",
   "metadata": {},
   "outputs": [],
   "source": [
    "from sklearn.preprocessing import LabelEncoder\n",
    "encoder = LabelEncoder()\n",
    "encoded_labels = encoder.fit_transform(labels)"
   ]
  },
  {
   "cell_type": "code",
   "execution_count": null,
   "id": "c3e1eaa9",
   "metadata": {},
   "outputs": [],
   "source": [
    "train_sentences, test_sentences, train_labels, test_labels = train_test_split(tablo, encoded_labels, stratify = labels)"
   ]
  },
  {
   "cell_type": "code",
   "execution_count": null,
   "id": "84b4c62c",
   "metadata": {
    "scrolled": true
   },
   "outputs": [],
   "source": [
    "def sigmoid(input):    \n",
    "    output = 1 / (1 + np.exp(-input))\n",
    "    return output"
   ]
  },
  {
   "cell_type": "code",
   "execution_count": null,
   "id": "972b8de0",
   "metadata": {},
   "outputs": [],
   "source": [
    "init_parameters = {} \n",
    "init_parameters[\"weight\"] = np.zeros(train_sentences.shape[1])\n",
    "init_parameters[\"bias\"] = 0"
   ]
  },
  {
   "cell_type": "code",
   "execution_count": null,
   "id": "b5206579",
   "metadata": {},
   "outputs": [],
   "source": [
    "len(train_sentences)"
   ]
  },
  {
   "cell_type": "code",
   "execution_count": null,
   "id": "8fb54633",
   "metadata": {},
   "outputs": [],
   "source": [
    "def optimize(x, y,learning_rate,iterations,parameters): \n",
    "    size = x.shape[0]#train sayısı\n",
    "    weight = parameters[\"weight\"] \n",
    "    bias = parameters[\"bias\"]\n",
    "    loss_tr=[]\n",
    "    accuracy_tr=[]\n",
    "    iterations2=[]\n",
    "    for i in range(iterations): \n",
    "        sigma = sigmoid(np.dot(x, weight) + bias)\n",
    "        loss = -1/size * np.sum(y * np.log(sigma)) + (1 - y) * np.log(1-sigma)\n",
    "        loss_tr.append(max(loss))\n",
    "        dW = 1/size * np.dot(x.T, (sigma - y))\n",
    "        db = 1/size * np.sum(sigma - y)\n",
    "        weight1=weight\n",
    "        weight -= learning_rate * dW\n",
    "        delta_weight=weight-weight1\n",
    "        bias1=bias\n",
    "        bias -= learning_rate * db \n",
    "        delta_bias=bias-bias1\n",
    "        \n",
    "        print(delta_weight)\n",
    "    \n",
    "        parameters[\"weight\"] = weight\n",
    "        parameters[\"bias\"] = bias\n",
    "        output_values_tr = np.dot(train_sentences, parameters[\"weight\"]) + parameters[\"bias\"]\n",
    "        predictions_tr = sigmoid(output_values_tr) >= 0.54\n",
    "        accuracy_tr.append(accuracy_score(train_labels,predictions_tr))\n",
    "        iterations2.append(i)  \n",
    "    return parameters,loss_tr,accuracy_tr,accuracy_te,iterations2"
   ]
  },
  {
   "cell_type": "code",
   "execution_count": null,
   "id": "63af2f58",
   "metadata": {},
   "outputs": [],
   "source": [
    "def test(x, y,parameters,learning_rate): \n",
    "    size = x.shape[0]#train sayısı\n",
    "    weight = parameters[\"weight\"] \n",
    "    bias = parameters[\"bias\"]\n",
    "    loss_te=[]\n",
    "    accuracy_te=[]\n",
    "    sentences=[]\n",
    "    for i in range(len(x)): \n",
    "        sigma = sigmoid(np.dot(x, weight) + bias)\n",
    "        loss = -1/size * np.sum(y * np.log(sigma)) + (1 - y) * np.log(1-sigma)\n",
    "        loss_te.append(max(loss))\n",
    "        dW = 1/size * np.dot(x.T, (sigma - y))\n",
    "        db = 1/size * np.sum(sigma - y)\n",
    "        weight -= learning_rate * dW\n",
    "        bias -= learning_rate * db \n",
    "    \n",
    "        parameters[\"weight\"] = weight\n",
    "        parameters[\"bias\"] = bias\n",
    "        \n",
    "        output_values_te = np.dot(test_sentences, parameters[\"weight\"]) + parameters[\"bias\"]\n",
    "        predictions_te = sigmoid(output_values_te) >= 0.54\n",
    "        accuracy_te.append(accuracy_score(test_labels,predictions_te))\n",
    "        sentences.append(i)\n",
    "        \n",
    "    return loss_te,accuracy_te,predictions_te,sentences"
   ]
  },
  {
   "cell_type": "code",
   "execution_count": null,
   "id": "7e9f97e5",
   "metadata": {},
   "outputs": [],
   "source": [
    "def train(x, y, learning_rate,iterations):\n",
    "    parameters_out,loss2, accuracy_tr,accuracy_te,iterations2 = optimize(x, y, learning_rate, iterations ,init_parameters)\n",
    "    return parameters_out,loss2,accuracy_tr,accuracy_te,iterations2"
   ]
  },
  {
   "cell_type": "code",
   "execution_count": null,
   "id": "57d009d2",
   "metadata": {},
   "outputs": [],
   "source": [
    "parameters_out,loss_tr,accuracy_tr,accuracy_te,iterations2 = train(train_sentences, train_labels, \n",
    "                                                                 learning_rate = 0.02, iterations = 100)"
   ]
  },
  {
   "cell_type": "code",
   "execution_count": null,
   "id": "7db28dff",
   "metadata": {},
   "outputs": [],
   "source": [
    "loss_te,accuracy_te,predictions_te,sentences_te=test(test_sentences,test_labels,parameters_out,learning_rate = 0.02)"
   ]
  },
  {
   "cell_type": "code",
   "execution_count": null,
   "id": "7aaf034b",
   "metadata": {},
   "outputs": [],
   "source": [
    "plt.scatter(iterations2,accuracy_tr)  \n",
    "plt.xlabel( 'iterations' ) \n",
    "plt.ylabel( 'accuracy_tr' )  \n",
    "plt.title(\"0.02-400-Bow-Acc_Tr\")\n",
    "plt.savefig(\"0.02-400-Bow-Acc_Tr.png\")\n",
    "plt.show()"
   ]
  },
  {
   "cell_type": "code",
   "execution_count": null,
   "id": "b7814f37",
   "metadata": {},
   "outputs": [],
   "source": [
    "plt.scatter(iterations2,loss_tr)  \n",
    "plt.xlabel( 'iterations' ) \n",
    "plt.ylabel( 'loss' )  \n",
    "plt.title(\"0.02-400-Bow-Loss_Tr\")\n",
    "plt.savefig(\"0.02-400-Bow-Loss_Tr.png\")\n",
    "plt.show()  "
   ]
  },
  {
   "cell_type": "code",
   "execution_count": null,
   "id": "6623b2f4",
   "metadata": {},
   "outputs": [],
   "source": [
    "plt.scatter(sentences_te,loss_te) \n",
    "plt.xlabel( 'test_sentences' ) \n",
    "plt.ylabel( 'loss_te' )  \n",
    "plt.title(\"0.02-400-Bow-Loss_Te\")\n",
    "plt.savefig(\"0.02-400-Bow-Loss_Te.png\")\n",
    "plt.show() "
   ]
  },
  {
   "cell_type": "code",
   "execution_count": null,
   "id": "da972bf5",
   "metadata": {},
   "outputs": [],
   "source": [
    "plt.scatter(sentences_te,accuracy_te)  \n",
    "plt.xlabel( 'sentences_te' ) \n",
    "plt.ylabel( 'accuracy' )  \n",
    "plt.title(\"0.02-400-Bow-Acc_Te\")\n",
    "plt.savefig(\"0.02-400-Bow-Acc_Te.png\")\n",
    "plt.show()  "
   ]
  },
  {
   "cell_type": "markdown",
   "id": "befb79cd",
   "metadata": {},
   "source": [
    "#### Lr=0.05, iterations=400"
   ]
  },
  {
   "cell_type": "code",
   "execution_count": null,
   "id": "67770edd",
   "metadata": {},
   "outputs": [],
   "source": [
    "output_values = np.dot(test_sentences, parameters_out[\"weight\"]) + parameters_out[\"bias\"]\n",
    "a=sigmoid(output_values)\n",
    "a.mean()\n",
    "predictions = sigmoid(output_values) >= 0.54\n",
    "print(\"Accuracy of prediction on test set : \", accuracy_score(test_labels,predictions))"
   ]
  },
  {
   "cell_type": "code",
   "execution_count": null,
   "id": "9a6ebd95",
   "metadata": {},
   "outputs": [],
   "source": [
    "from sklearn.metrics import classification_report, confusion_matrix\n",
    "\n",
    "class_names=[\"0\",\"1\"]\n",
    "\n",
    "print(classification_report(test_labels, predictions, target_names=class_names))\n",
    "\n",
    "print(confusion_matrix(test_labels, predictions))"
   ]
  },
  {
   "cell_type": "code",
   "execution_count": null,
   "id": "554ff0c5",
   "metadata": {},
   "outputs": [],
   "source": [
    "pred=[]\n",
    "for i in range(len(predictions)):\n",
    "    if(predictions[i]==True):\n",
    "        pred.append(\"1\")\n",
    "    else: pred.append(0)\n",
    "x= zip(pred,test_labels)\n",
    "for i,j in x:\n",
    "    print(\"Tahmin: {} Gerçek:{}\".format(i,j))"
   ]
  },
  {
   "cell_type": "code",
   "execution_count": null,
   "id": "08543e06",
   "metadata": {},
   "outputs": [],
   "source": []
  }
 ],
 "metadata": {
  "kernelspec": {
   "display_name": "Python 3",
   "language": "python",
   "name": "python3"
  },
  "language_info": {
   "codemirror_mode": {
    "name": "ipython",
    "version": 3
   },
   "file_extension": ".py",
   "mimetype": "text/x-python",
   "name": "python",
   "nbconvert_exporter": "python",
   "pygments_lexer": "ipython3",
   "version": "3.8.8"
  }
 },
 "nbformat": 4,
 "nbformat_minor": 5
}
